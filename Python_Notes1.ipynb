{
 "cells": [
  {
   "cell_type": "code",
   "execution_count": 2,
   "id": "102d91d5",
   "metadata": {},
   "outputs": [
    {
     "name": "stdout",
     "output_type": "stream",
     "text": [
      "Sude\n",
      "Zeynep\n"
     ]
    }
   ],
   "source": [
    "#Function Definition\n",
    "def myprint(s1):\n",
    "    print(s1)\n",
    "        \n",
    "#Function call \n",
    "myprint(\"Sude\")\n",
    "myprint(\"Zeynep\")"
   ]
  },
  {
   "cell_type": "code",
   "execution_count": 3,
   "id": "f44ac5bc",
   "metadata": {},
   "outputs": [
    {
     "name": "stdout",
     "output_type": "stream",
     "text": [
      "33\n"
     ]
    }
   ],
   "source": [
    "def Fun(x,y):\n",
    "    result = x + y\n",
    "    return result\n",
    "\n",
    "print(Fun(10, 23))"
   ]
  },
  {
   "cell_type": "code",
   "execution_count": 4,
   "id": "06eb9b52",
   "metadata": {},
   "outputs": [
    {
     "name": "stdout",
     "output_type": "stream",
     "text": [
      "Name Bubbles\n",
      "Age 36\n",
      "Name Blossom\n",
      "Age 23\n"
     ]
    }
   ],
   "source": [
    "#Default Parameter\n",
    "def printinfo(name, age = 23):\n",
    "    print(\"Name\", name)\n",
    "    print(\"Age\", age)\n",
    "    \n",
    "printinfo(age=36, name = \"Bubbles\")\n",
    "printinfo(name = \"Blossom\")"
   ]
  },
  {
   "cell_type": "code",
   "execution_count": 8,
   "id": "2ec62efb",
   "metadata": {},
   "outputs": [
    {
     "name": "stdout",
     "output_type": "stream",
     "text": [
      "126\n",
      "768\n"
     ]
    }
   ],
   "source": [
    "from random import randint \n",
    "print(randint(50,500))\n",
    "\n",
    "import random\n",
    "print(random.randint(100,1000))"
   ]
  },
  {
   "cell_type": "code",
   "execution_count": 9,
   "id": "2c0f0fdc",
   "metadata": {},
   "outputs": [
    {
     "name": "stdout",
     "output_type": "stream",
     "text": [
      "60.84482501303025\n",
      "41.539037603347424\n"
     ]
    }
   ],
   "source": [
    "print(random.uniform(18,81))\n",
    "print(random.uniform(17,89))"
   ]
  },
  {
   "cell_type": "code",
   "execution_count": 10,
   "id": "df33b392",
   "metadata": {},
   "outputs": [
    {
     "name": "stdout",
     "output_type": "stream",
     "text": [
      "3.141592653589793\n"
     ]
    }
   ],
   "source": [
    "from math import pi\n",
    "print(pi)"
   ]
  },
  {
   "cell_type": "code",
   "execution_count": 11,
   "id": "265d0bfc",
   "metadata": {},
   "outputs": [
    {
     "name": "stdout",
     "output_type": "stream",
     "text": [
      "50.26548245743669\n"
     ]
    }
   ],
   "source": [
    "import math \n",
    "def area_of_circle(r):\n",
    "    a = r**2 * math.pi\n",
    "    return a \n",
    "\n",
    "print(area_of_circle(4))"
   ]
  },
  {
   "cell_type": "code",
   "execution_count": null,
   "id": "b53026d6",
   "metadata": {},
   "outputs": [],
   "source": [
    "#Lambda, filter, map, reduce --> Anonim Fonksiyonlar\n",
    "#Lambda num1, num2 : num1 + num2"
   ]
  },
  {
   "cell_type": "code",
   "execution_count": 12,
   "id": "485ef2ad",
   "metadata": {},
   "outputs": [
    {
     "name": "stdout",
     "output_type": "stream",
     "text": [
      "16\n"
     ]
    }
   ],
   "source": [
    "addition = lambda a : a + 10 \n",
    "print(addition(6))"
   ]
  },
  {
   "cell_type": "code",
   "execution_count": 15,
   "id": "10bc4aa1",
   "metadata": {},
   "outputs": [
    {
     "name": "stdout",
     "output_type": "stream",
     "text": [
      "910\n"
     ]
    }
   ],
   "source": [
    "product = lambda a, b : a * b\n",
    "print(product(14,65))"
   ]
  },
  {
   "cell_type": "code",
   "execution_count": 16,
   "id": "c64e92bc",
   "metadata": {},
   "outputs": [
    {
     "name": "stdout",
     "output_type": "stream",
     "text": [
      "185\n"
     ]
    }
   ],
   "source": [
    "addition = lambda a,b,c : a + b + c\n",
    "print(addition(69,81,35))"
   ]
  },
  {
   "cell_type": "code",
   "execution_count": 18,
   "id": "dc7ec19c",
   "metadata": {
    "scrolled": true
   },
   "outputs": [
    {
     "data": {
      "text/plain": [
       "(30, 100, 280)"
      ]
     },
     "execution_count": 18,
     "metadata": {},
     "output_type": "execute_result"
    }
   ],
   "source": [
    "res = (lambda *args : sum(args))\n",
    "res(10,20), res(10,20,30,40), res(10,20,30,40,50,60,70)"
   ]
  },
  {
   "cell_type": "code",
   "execution_count": 34,
   "id": "9037a9ac",
   "metadata": {},
   "outputs": [
    {
     "data": {
      "text/plain": [
       "[1, 3, 5, 7, 9]"
      ]
     },
     "execution_count": 34,
     "metadata": {},
     "output_type": "execute_result"
    }
   ],
   "source": [
    "#filter(function, iterable)\n",
    "list1 = [1,2,3,4,5,6,7,8,9]\n",
    "\n",
    "def odd(n):\n",
    "    if n%2 == 1:\n",
    "        return True\n",
    "    else:\n",
    "        return False\n",
    "    \n",
    "odd_num = list(filter(odd, list1))\n",
    "odd_num"
   ]
  },
  {
   "cell_type": "code",
   "execution_count": 35,
   "id": "b2d41188",
   "metadata": {},
   "outputs": [
    {
     "data": {
      "text/plain": [
       "[2, 6, 10, 14, 18]"
      ]
     },
     "execution_count": 35,
     "metadata": {},
     "output_type": "execute_result"
    }
   ],
   "source": [
    "#map(function, iteration)\n",
    "def twice(n):\n",
    "    return n*2\n",
    "\n",
    "doubles = list(map(twice, odd_num))\n",
    "doubles"
   ]
  },
  {
   "cell_type": "code",
   "execution_count": 38,
   "id": "09584ad5",
   "metadata": {},
   "outputs": [
    {
     "data": {
      "text/plain": [
       "[2, 6, 10, 14, 18]"
      ]
     },
     "execution_count": 38,
     "metadata": {},
     "output_type": "execute_result"
    }
   ],
   "source": [
    "doubles = list(map(lambda n : n*2, odd_num))\n",
    "doubles"
   ]
  },
  {
   "cell_type": "code",
   "execution_count": 39,
   "id": "c117e5a7",
   "metadata": {},
   "outputs": [
    {
     "data": {
      "text/plain": [
       "50"
      ]
     },
     "execution_count": 39,
     "metadata": {},
     "output_type": "execute_result"
    }
   ],
   "source": [
    "#reduce(function, iteration)\n",
    "from functools import reduce\n",
    "def add(a, b):\n",
    "    return a + b\n",
    "\n",
    "sum_all = reduce(add, doubles)\n",
    "sum_all"
   ]
  },
  {
   "cell_type": "code",
   "execution_count": 40,
   "id": "369da0e2",
   "metadata": {},
   "outputs": [
    {
     "name": "stdout",
     "output_type": "stream",
     "text": [
      "['python', 'java', 2017, 2023]\n",
      "After deleting :  ['python', 2017, 2023]\n"
     ]
    }
   ],
   "source": [
    "#silme\n",
    "mylist = ['python', 'java', 2017, 2023]\n",
    "print(mylist)\n",
    "del mylist[1]\n",
    "print(\"After deleting : \", mylist)"
   ]
  },
  {
   "cell_type": "code",
   "execution_count": 41,
   "id": "3ffd2331",
   "metadata": {},
   "outputs": [
    {
     "name": "stdout",
     "output_type": "stream",
     "text": [
      "2023\n",
      "New value at index 3 : 5000\n"
     ]
    }
   ],
   "source": [
    "#güncelleme\n",
    "lst2 = ['python', 'geometry', 2017, 2023]\n",
    "print(lst2[3])\n",
    "lst2[3] = 5000\n",
    "print(\"New value at index 3 :\", lst2[3])"
   ]
  },
  {
   "cell_type": "code",
   "execution_count": 42,
   "id": "4113c54b",
   "metadata": {},
   "outputs": [
    {
     "name": "stdout",
     "output_type": "stream",
     "text": [
      "['but', 'soft', 'what', 'light', 'in', 'window', 'shop']\n"
     ]
    }
   ],
   "source": [
    "#bölme(split)\n",
    "txt = 'but soft what light in window shop'\n",
    "words = txt.split()\n",
    "print(words)"
   ]
  },
  {
   "cell_type": "code",
   "execution_count": 43,
   "id": "4f0cb3f3",
   "metadata": {},
   "outputs": [
    {
     "name": "stdout",
     "output_type": "stream",
     "text": [
      "[64, 128, 256, 512]\n"
     ]
    }
   ],
   "source": [
    "#List Comprehension\n",
    "pow2 = [2 ** x for x in range(10) if x > 5]\n",
    "print(pow2)"
   ]
  },
  {
   "cell_type": "code",
   "execution_count": 44,
   "id": "74ac8706",
   "metadata": {},
   "outputs": [
    {
     "name": "stdout",
     "output_type": "stream",
     "text": [
      "1\n",
      "2\n",
      "4\n",
      "8\n",
      "16\n",
      "32\n",
      "64\n",
      "128\n",
      "256\n",
      "512\n"
     ]
    }
   ],
   "source": [
    "pow2 = []\n",
    "for x in range(10):\n",
    "    pow2.append(print(2**x))"
   ]
  },
  {
   "cell_type": "code",
   "execution_count": 45,
   "id": "7938543b",
   "metadata": {},
   "outputs": [
    {
     "name": "stdout",
     "output_type": "stream",
     "text": [
      "['Python', 'Java']\n"
     ]
    }
   ],
   "source": [
    "langs = []\n",
    "langs.append(\"Python\")\n",
    "langs.append(\"Java\")\n",
    "print(langs)"
   ]
  },
  {
   "cell_type": "code",
   "execution_count": 46,
   "id": "c7cd19e2",
   "metadata": {},
   "outputs": [
    {
     "name": "stdout",
     "output_type": "stream",
     "text": [
      "['PHP', 'Python', 'C', 'Java', 'Swift']\n"
     ]
    }
   ],
   "source": [
    "langs.insert(0, \"PHP\")\n",
    "langs.insert(2, \"C\")\n",
    "langs.insert(4, \"Swift\")\n",
    "print(langs)"
   ]
  },
  {
   "cell_type": "code",
   "execution_count": 47,
   "id": "ad9b35f6",
   "metadata": {},
   "outputs": [
    {
     "name": "stdout",
     "output_type": "stream",
     "text": [
      "['PHP', 'Python', 'C', 'Swift']\n"
     ]
    }
   ],
   "source": [
    "del langs[3]\n",
    "print(langs)"
   ]
  }
 ],
 "metadata": {
  "kernelspec": {
   "display_name": "Python 3 (ipykernel)",
   "language": "python",
   "name": "python3"
  },
  "language_info": {
   "codemirror_mode": {
    "name": "ipython",
    "version": 3
   },
   "file_extension": ".py",
   "mimetype": "text/x-python",
   "name": "python",
   "nbconvert_exporter": "python",
   "pygments_lexer": "ipython3",
   "version": "3.9.13"
  }
 },
 "nbformat": 4,
 "nbformat_minor": 5
}
