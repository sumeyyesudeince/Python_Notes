{
 "cells": [
  {
   "cell_type": "code",
   "execution_count": 1,
   "id": "24aace73",
   "metadata": {},
   "outputs": [],
   "source": [
    "import numpy as np"
   ]
  },
  {
   "cell_type": "code",
   "execution_count": 2,
   "id": "2ff5ac0e",
   "metadata": {},
   "outputs": [
    {
     "name": "stdout",
     "output_type": "stream",
     "text": [
      "[[309 145 213  15 319 371 149 169 195 106]\n",
      " [228 422 171 186 204 459 480 120 308 409]\n",
      " [396 415 330 428 214 273 327 317 100 426]\n",
      " [320 359 413  72 347 384 152  67  72 343]\n",
      " [226 377 103 347   9 418 101 403   1 383]\n",
      " [307 168 307 217  77 352 409 288 150  16]\n",
      " [427 350 262 271 484 166 292 481 137 494]\n",
      " [206  15 322 210 307 153 287 155 454 286]\n",
      " [ 72 420 105  61 355 239 263  35 276 154]\n",
      " [496  61 345 144 433  64 405 403 284  40]]\n"
     ]
    }
   ],
   "source": [
    "mat1 = np.random.randint(0, 500, (10,10))\n",
    "print(mat1)"
   ]
  },
  {
   "cell_type": "code",
   "execution_count": 3,
   "id": "8fd0d7ce",
   "metadata": {},
   "outputs": [
    {
     "data": {
      "text/plain": [
       "309"
      ]
     },
     "execution_count": 3,
     "metadata": {},
     "output_type": "execute_result"
    }
   ],
   "source": [
    "mat1[0,0]"
   ]
  },
  {
   "cell_type": "code",
   "execution_count": 4,
   "id": "54626b1f",
   "metadata": {},
   "outputs": [
    {
     "data": {
      "text/plain": [
       "array([309, 319, 371, 422, 459, 480, 308, 409, 396, 415, 330, 428, 273,\n",
       "       327, 317, 426, 320, 359, 413, 347, 384, 343, 377, 347, 418, 403,\n",
       "       383, 307, 307, 352, 409, 288, 427, 350, 262, 271, 484, 292, 481,\n",
       "       494, 322, 307, 287, 454, 286, 420, 355, 263, 276, 496, 345, 433,\n",
       "       405, 403, 284])"
      ]
     },
     "execution_count": 4,
     "metadata": {},
     "output_type": "execute_result"
    }
   ],
   "source": [
    "mat1[mat1 > 250]"
   ]
  },
  {
   "cell_type": "code",
   "execution_count": 6,
   "id": "d1ad2623",
   "metadata": {},
   "outputs": [
    {
     "data": {
      "text/plain": [
       "array([[1., 0., 0., 0., 0., 0., 0., 0., 0.],\n",
       "       [0., 1., 0., 0., 0., 0., 0., 0., 0.],\n",
       "       [0., 0., 1., 0., 0., 0., 0., 0., 0.],\n",
       "       [0., 0., 0., 1., 0., 0., 0., 0., 0.],\n",
       "       [0., 0., 0., 0., 1., 0., 0., 0., 0.],\n",
       "       [0., 0., 0., 0., 0., 1., 0., 0., 0.],\n",
       "       [0., 0., 0., 0., 0., 0., 1., 0., 0.],\n",
       "       [0., 0., 0., 0., 0., 0., 0., 1., 0.],\n",
       "       [0., 0., 0., 0., 0., 0., 0., 0., 1.]])"
      ]
     },
     "execution_count": 6,
     "metadata": {},
     "output_type": "execute_result"
    }
   ],
   "source": [
    "I = np.eye(9)\n",
    "I"
   ]
  },
  {
   "cell_type": "code",
   "execution_count": 7,
   "id": "a53e9d3f",
   "metadata": {},
   "outputs": [
    {
     "data": {
      "text/plain": [
       "array([[1, 0, 0, 0, 0, 0, 0, 0, 0],\n",
       "       [0, 2, 0, 0, 0, 0, 0, 0, 0],\n",
       "       [0, 0, 3, 0, 0, 0, 0, 0, 0],\n",
       "       [0, 0, 0, 4, 0, 0, 0, 0, 0],\n",
       "       [0, 0, 0, 0, 5, 0, 0, 0, 0],\n",
       "       [0, 0, 0, 0, 0, 6, 0, 0, 0],\n",
       "       [0, 0, 0, 0, 0, 0, 7, 0, 0],\n",
       "       [0, 0, 0, 0, 0, 0, 0, 8, 0],\n",
       "       [0, 0, 0, 0, 0, 0, 0, 0, 9]])"
      ]
     },
     "execution_count": 7,
     "metadata": {},
     "output_type": "execute_result"
    }
   ],
   "source": [
    "D = np.diag([1,2,3,4,5,6,7,8,9])\n",
    "D"
   ]
  },
  {
   "cell_type": "code",
   "execution_count": 8,
   "id": "1f909977",
   "metadata": {},
   "outputs": [
    {
     "name": "stdout",
     "output_type": "stream",
     "text": [
      "[[ 0.89843351  0.74206858  0.49916545  0.80959264 -1.38447227]\n",
      " [ 1.92922386 -2.92243315 -0.23464     2.26218358  0.48265981]\n",
      " [ 0.53104659 -1.22911939  1.75887524  0.28106613  0.51149216]\n",
      " [ 0.88256982  0.76632527 -0.01631581  0.57637482 -0.46829485]\n",
      " [-0.22795836  0.52589421 -0.44647061  0.17700108  1.64439398]]\n",
      "\n",
      "\n",
      "[[ 0.89843351  0.74206858  0.49916545  0.80959264 -1.38447227]\n",
      " [ 0.         -2.92243315 -0.23464     2.26218358  0.48265981]\n",
      " [ 0.          0.          1.75887524  0.28106613  0.51149216]\n",
      " [ 0.          0.          0.          0.57637482 -0.46829485]\n",
      " [ 0.          0.          0.          0.          1.64439398]]\n",
      "\n",
      "\n",
      "[[ 0.89843351  0.          0.          0.          0.        ]\n",
      " [ 1.92922386 -2.92243315  0.          0.          0.        ]\n",
      " [ 0.53104659 -1.22911939  1.75887524  0.          0.        ]\n",
      " [ 0.88256982  0.76632527 -0.01631581  0.57637482  0.        ]\n",
      " [-0.22795836  0.52589421 -0.44647061  0.17700108  1.64439398]]\n"
     ]
    }
   ],
   "source": [
    "M = np.random.randn(5, 5)\n",
    "U = np.triu(M)\n",
    "L = np.tril(M)\n",
    "print(M)\n",
    "print('\\n')\n",
    "print(U)\n",
    "print('\\n')\n",
    "print(L)"
   ]
  },
  {
   "cell_type": "code",
   "execution_count": 9,
   "id": "f4839edb",
   "metadata": {},
   "outputs": [
    {
     "data": {
      "text/plain": [
       "array([[ 1,  2,  3,  4],\n",
       "       [ 5,  6,  7,  8],\n",
       "       [ 9, 10, 11, 12],\n",
       "       [13, 14, 15, 16]])"
      ]
     },
     "execution_count": 9,
     "metadata": {},
     "output_type": "execute_result"
    }
   ],
   "source": [
    "A = np.array([[1,2,3,4], [5,6,7,8], [9,10,11,12], [13,14,15,16]])\n",
    "A"
   ]
  },
  {
   "cell_type": "code",
   "execution_count": 10,
   "id": "5f5d3139",
   "metadata": {},
   "outputs": [
    {
     "data": {
      "text/plain": [
       "array([ 1,  2,  3,  4,  5,  6,  7,  8,  9, 10, 11, 12, 13, 14, 15, 16])"
      ]
     },
     "execution_count": 10,
     "metadata": {},
     "output_type": "execute_result"
    }
   ],
   "source": [
    "A.flatten()"
   ]
  },
  {
   "cell_type": "code",
   "execution_count": 11,
   "id": "96c6b6bc",
   "metadata": {},
   "outputs": [
    {
     "data": {
      "text/plain": [
       "array([ 1,  2,  3,  4,  5,  6,  7,  8,  9, 10, 11, 12, 13, 14, 15, 16])"
      ]
     },
     "execution_count": 11,
     "metadata": {},
     "output_type": "execute_result"
    }
   ],
   "source": [
    "A.ravel() "
   ]
  },
  {
   "cell_type": "code",
   "execution_count": 13,
   "id": "ad62fb38",
   "metadata": {},
   "outputs": [
    {
     "name": "stdout",
     "output_type": "stream",
     "text": [
      "Matrix(M) => \n",
      " [[ 1  2  3]\n",
      " [ 4 -3  6]\n",
      " [ 7  8  0]]\n",
      "\n",
      "\n",
      "Transpose of M => \n",
      " [[ 1  4  7]\n",
      " [ 2 -3  8]\n",
      " [ 3  6  0]]\n",
      "\n",
      "\n",
      "[[ 1  4  7]\n",
      " [ 2 -3  8]\n",
      " [ 3  6  0]]\n"
     ]
    }
   ],
   "source": [
    "#Transpoze\n",
    "M = np.array([[1,2,3], [4,-3,6], [7,8,0]])\n",
    "print('Matrix(M) => \\n', M)\n",
    "print('\\n')\n",
    "print('Transpose of M => \\n', np.transpose(M))\n",
    "print('\\n')\n",
    "#OR\n",
    "print(M.T)"
   ]
  },
  {
   "cell_type": "code",
   "execution_count": 14,
   "id": "b5f922a3",
   "metadata": {},
   "outputs": [
    {
     "name": "stdout",
     "output_type": "stream",
     "text": [
      "195.0\n"
     ]
    }
   ],
   "source": [
    "#Determinant\n",
    "M = np.array([[1,2,3], [4,-3,6], [7,8,0]])\n",
    "print(np.linalg.det(M))"
   ]
  },
  {
   "cell_type": "code",
   "execution_count": 15,
   "id": "fa9718b9",
   "metadata": {},
   "outputs": [
    {
     "name": "stdout",
     "output_type": "stream",
     "text": [
      "3\n"
     ]
    }
   ],
   "source": [
    "#Rank\n",
    "M = np.array([[1,2,3], [4,-3,6], [7,8,0]])\n",
    "print(np.linalg.matrix_rank(M))"
   ]
  },
  {
   "cell_type": "code",
   "execution_count": 16,
   "id": "6a776c9e",
   "metadata": {},
   "outputs": [
    {
     "name": "stdout",
     "output_type": "stream",
     "text": [
      "[[-0.24615385  0.12307692  0.10769231]\n",
      " [ 0.21538462 -0.10769231  0.03076923]\n",
      " [ 0.27179487  0.03076923 -0.05641026]]\n"
     ]
    }
   ],
   "source": [
    "#Ters Alma\n",
    "M = np.array([[1,2,3], [4,-3,6], [7,8,0]])\n",
    "print(np.linalg.inv(M))"
   ]
  },
  {
   "cell_type": "code",
   "execution_count": 17,
   "id": "03fd5439",
   "metadata": {},
   "outputs": [
    {
     "data": {
      "text/plain": [
       "array([[1, 2],\n",
       "       [4, 5]])"
      ]
     },
     "execution_count": 17,
     "metadata": {},
     "output_type": "execute_result"
    }
   ],
   "source": [
    "#Matrislerin Kuvveti\n",
    "M1 = np.array([[1,2], [4,5]])\n",
    "M1"
   ]
  },
  {
   "cell_type": "code",
   "execution_count": 18,
   "id": "c5368432",
   "metadata": {},
   "outputs": [
    {
     "data": {
      "text/plain": [
       "array([[ 57,  78],\n",
       "       [156, 213]])"
      ]
     },
     "execution_count": 18,
     "metadata": {},
     "output_type": "execute_result"
    }
   ],
   "source": [
    "M1@M1@M1"
   ]
  },
  {
   "cell_type": "code",
   "execution_count": 20,
   "id": "6e7a5aad",
   "metadata": {},
   "outputs": [],
   "source": [
    "import pandas as pd\n",
    "import warnings\n",
    "warnings.filterwarnings(\"ignore\")"
   ]
  },
  {
   "cell_type": "code",
   "execution_count": 21,
   "id": "349fdadb",
   "metadata": {},
   "outputs": [
    {
     "data": {
      "text/plain": [
       "0    1\n",
       "1    2\n",
       "2    3\n",
       "3    4\n",
       "4    5\n",
       "5    6\n",
       "6    7\n",
       "dtype: int64"
      ]
     },
     "execution_count": 21,
     "metadata": {},
     "output_type": "execute_result"
    }
   ],
   "source": [
    "v = np.array([1,2,3,4,5,6,7])\n",
    "s1 = pd.Series(v)\n",
    "s1"
   ]
  },
  {
   "cell_type": "code",
   "execution_count": 22,
   "id": "db0b0fc1",
   "metadata": {},
   "outputs": [
    {
     "data": {
      "text/plain": [
       "a    1\n",
       "b    2\n",
       "c    3\n",
       "d    4\n",
       "e    5\n",
       "f    6\n",
       "g    7\n",
       "dtype: int64"
      ]
     },
     "execution_count": 22,
     "metadata": {},
     "output_type": "execute_result"
    }
   ],
   "source": [
    "s1.index = ['a', 'b', 'c', 'd', 'e', 'f', 'g']\n",
    "s1"
   ]
  },
  {
   "cell_type": "code",
   "execution_count": 23,
   "id": "d3a32684",
   "metadata": {},
   "outputs": [
    {
     "data": {
      "text/plain": [
       "(array([0.81927846, 0.81479512, 0.3975765 , 0.4399872 , 0.74191891,\n",
       "        0.70353391, 0.259029  , 0.65619364, 0.92942012, 0.21828554]),\n",
       " array([0, 1, 2, 3, 4, 5, 6, 7, 8, 9]),\n",
       " 0    0.819278\n",
       " 1    0.814795\n",
       " 2    0.397577\n",
       " 3    0.439987\n",
       " 4    0.741919\n",
       " 5    0.703534\n",
       " 6    0.259029\n",
       " 7    0.656194\n",
       " 8    0.929420\n",
       " 9    0.218286\n",
       " dtype: float64)"
      ]
     },
     "execution_count": 23,
     "metadata": {},
     "output_type": "execute_result"
    }
   ],
   "source": [
    "v2 = np.random.random(10)\n",
    "ind2 = np.arange(0, 10)\n",
    "s = pd.Series(v2, ind2)\n",
    "v2, ind2, s"
   ]
  },
  {
   "cell_type": "code",
   "execution_count": 24,
   "id": "21bf6127",
   "metadata": {},
   "outputs": [
    {
     "data": {
      "text/plain": [
       "a1    10\n",
       "a2    20\n",
       "a3    30\n",
       "a4    40\n",
       "dtype: int64"
      ]
     },
     "execution_count": 24,
     "metadata": {},
     "output_type": "execute_result"
    }
   ],
   "source": [
    "dict1 = {'a1' : 10, 'a2' : 20, 'a3' : 30, 'a4' : 40}\n",
    "s3 = pd.Series(dict1)\n",
    "s3"
   ]
  },
  {
   "cell_type": "code",
   "execution_count": 28,
   "id": "0916cf86",
   "metadata": {},
   "outputs": [
    {
     "data": {
      "text/plain": [
       "a1    10\n",
       "a2    20\n",
       "a3    30\n",
       "dtype: int64"
      ]
     },
     "execution_count": 28,
     "metadata": {},
     "output_type": "execute_result"
    }
   ],
   "source": [
    "s3.drop('a4', inplace = False)"
   ]
  },
  {
   "cell_type": "code",
   "execution_count": 31,
   "id": "b5ec5497",
   "metadata": {},
   "outputs": [
    {
     "data": {
      "text/plain": [
       "a1    10\n",
       "a2    20\n",
       "a3    30\n",
       "a4    40\n",
       "a5     7\n",
       "dtype: int64"
      ]
     },
     "execution_count": 31,
     "metadata": {},
     "output_type": "execute_result"
    }
   ],
   "source": [
    "s3 = s3.append(pd.Series({'a5' : 7}))\n",
    "s3"
   ]
  }
 ],
 "metadata": {
  "kernelspec": {
   "display_name": "Python 3 (ipykernel)",
   "language": "python",
   "name": "python3"
  },
  "language_info": {
   "codemirror_mode": {
    "name": "ipython",
    "version": 3
   },
   "file_extension": ".py",
   "mimetype": "text/x-python",
   "name": "python",
   "nbconvert_exporter": "python",
   "pygments_lexer": "ipython3",
   "version": "3.9.13"
  }
 },
 "nbformat": 4,
 "nbformat_minor": 5
}
